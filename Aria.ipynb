{
 "cells": [
  {
   "cell_type": "markdown",
   "metadata": {},
   "source": [
    "LOMBARDIA - ANALISI QUALITA' DELL'ARIA"
   ]
  },
  {
   "cell_type": "markdown",
   "metadata": {},
   "source": [
    "FONTE INFORMAZIONI\n",
    "https://dati.lombardia.it/stories/s/Meteo-inquinamento-aria-e-acqua-e-altri-dati-da-AR/auv9-c2sj/\n",
    "\n",
    "INDICI QUALITA' DELL'ARIA\n",
    "https://www.arpalombardia.it/Pages/Aria/Modellistica/Indice-qualit%C3%A0-aria.aspx\n",
    "\n",
    "RILIEVI\n",
    "https://www.dati.lombardia.it/Ambiente/Dati-stime-comunali/ysm5-jwrn /n\n",
    "https://www.dati.lombardia.it/Ambiente/Dati-sensori-aria/nicp-bhqi\n",
    "\n",
    "STAZIONI\n",
    "https://www.dati.lombardia.it/Ambiente/Stazioni-qualit-dell-aria/ib47-atvt"
   ]
  },
  {
   "cell_type": "code",
   "execution_count": null,
   "metadata": {},
   "outputs": [
    {
     "name": "stderr",
     "output_type": "stream",
     "text": [
      "WARNING:root:Requests made without an app_token will be subject to strict throttling limits.\n"
     ]
    }
   ],
   "source": [
    "import numpy as np\n",
    "import pandas as pd\n",
    "import datetime as dt\n",
    "import matplotlib.pyplot as plt\n",
    "\n",
    "from sodapy import Socrata\n",
    "client = Socrata(\"www.dati.lombardia.it\", None)\n",
    "\n",
    "#link_rilievi = 'https://www.dati.lombardia.it/resource/nicp-bhqi.csv'\n",
    "results = client.get(\"nicp-bhqi\",limit=10000000)\n",
    "# Convert to pandas DataFrame\n",
    "rl = pd.DataFrame.from_records(results)\n",
    "\n",
    "link_stazioni = 'https://www.dati.lombardia.it/resource/ib47-atvt.csv'\n",
    "st=pd.read_csv(link_stazioni)\n",
    "\n",
    "#link_rilievi = 'https://www.dati.lombardia.it/resource/nicp-bhqi.csv'\n",
    "#rl=pd.read_csv(link_rilievi)\n",
    "#rl"
   ]
  },
  {
   "cell_type": "code",
   "execution_count": null,
   "metadata": {},
   "outputs": [],
   "source": [
    "#st"
   ]
  },
  {
   "cell_type": "code",
   "execution_count": null,
   "metadata": {},
   "outputs": [],
   "source": [
    "#CLEAN\n",
    "rl['data']=pd.to_datetime(rl['data'])\n",
    "rl['data']=rl['data'].dt.normalize()\n",
    "\n",
    "#REMOVE NAN VALUE\n",
    "rl=rl.replace('-9999',np.NaN)    \n",
    "rl2=rl[rl['valore'].notna()]\n",
    "\n",
    "#ADJUST DTYPES\n",
    "rl2 = rl2.astype({\"idsensore\": int, \"valore\": float})\n",
    "#rl2"
   ]
  },
  {
   "cell_type": "code",
   "execution_count": null,
   "metadata": {},
   "outputs": [],
   "source": [
    "#FILTER STATION COLUMNS\n",
    "stfi=st.loc[st['idsensore'].isin(rl2['idsensore']),['idsensore','nometiposensore','unitamisura','comune','location']]\n",
    "stfi['location']=stfi['location'].str.strip('123.!? , \\n\\t')\n",
    "#stfi"
   ]
  },
  {
   "cell_type": "code",
   "execution_count": null,
   "metadata": {},
   "outputs": [],
   "source": [
    "#MERGE\n",
    "rl2=rl2.merge(stfi,how='left')"
   ]
  },
  {
   "cell_type": "code",
   "execution_count": null,
   "metadata": {},
   "outputs": [],
   "source": [
    "#rl2"
   ]
  },
  {
   "cell_type": "code",
   "execution_count": null,
   "metadata": {},
   "outputs": [],
   "source": [
    "#FILTRO PER CITTA' (PAVIA)\n",
    "rl3=rl2[rl2['comune']=='Pavia']\n",
    "#rl3=rl2\n",
    "#FILTRO DATA\n",
    "#rl3=rl3[rl3['data']>='2020-09-01']\n",
    "#rl3"
   ]
  },
  {
   "cell_type": "code",
   "execution_count": null,
   "metadata": {},
   "outputs": [],
   "source": [
    "#check for null rows\n",
    "missing_data = rl3.isnull()\n",
    "#for column in missing_data.columns.values.tolist():\n",
    "#    print(column)\n",
    "#    print (missing_data[column].value_counts())\n",
    "#    print(\"\")\n",
    "\n",
    "#drop null rows    \n",
    "rl3.dropna(subset=[\"nometiposensore\"], axis=0, inplace=True)\n",
    "# reset index, because we droped two rows\n",
    "rl3.reset_index(drop=True, inplace=True)"
   ]
  },
  {
   "cell_type": "code",
   "execution_count": null,
   "metadata": {},
   "outputs": [],
   "source": [
    "#INDICI QUALITA' ARIA PM2.5,PM10, NO2, O3, SO2\n",
    "#NOTA Monossido di Carbonio e' in mg/m³\n",
    "rl3=rl3.replace('PM10 (SM2005)','PM10')\n",
    "rl3=rl3.replace('Biossido di Zolfo','SO2 Biossido di Zolfo')\n",
    "rl3=rl3.replace('Biossido di Azoto','NO2 Biossido di Azoto')\n",
    "rl3=rl3.replace('Ozono','O3 Ozono')\n",
    "rl3=rl3.replace('Particelle sospese PM2.5','PM2.5')\n",
    "\n",
    "sensori=['NO2 Biossido di Azoto','SO2 Biossido di Zolfo','O3 Ozono','PM10','PM2.5']\n",
    "rl4 = rl3[(rl3['nometiposensore'].str.contains('|'.join(sensori)))]\n",
    "          \n",
    "#rl4 = rl3[(rl3['nometiposensore'] == 'Biossido di Azoto') | (rl3['nometiposensore'] == 'Biossido di Zolfo')\n",
    "#|(rl3['nometiposensore'] == 'Ozono')|(rl3['nometiposensore'] == 'PM10 (SM2005)')\n",
    "#|(rl3['nometiposensore'] == 'Particelle sospese PM2.5')]\n",
    "\n",
    "#rl4"
   ]
  },
  {
   "cell_type": "code",
   "execution_count": null,
   "metadata": {},
   "outputs": [],
   "source": [
    "# GROUP DATA BY SENSOR\n",
    "#rl4=rl3\n",
    "\n",
    "rilievi = {}\n",
    "for i in rl4['nometiposensore'].unique():\n",
    "    rilievi[i] = rl4[rl4['nometiposensore'] == i]\n",
    "    \n",
    "    #raggruppa media settimanale e resetta indice\n",
    "    rilievi[i]=rilievi[i].groupby(['nometiposensore', pd.Grouper(key='data', freq='W')])['valore'].mean().reset_index()\n",
    "    #raggruppa media 3giorni e resetta indice\n",
    "    #rilievi[i]=rilievi[i].groupby(['nometiposensore', pd.Grouper(key='data', freq='3D')])['valore'].mean().reset_index()\n",
    "\n",
    "#rilievi"
   ]
  },
  {
   "cell_type": "code",
   "execution_count": null,
   "metadata": {},
   "outputs": [],
   "source": [
    "fig, ax = plt.subplots(figsize=(15,10))\n",
    "\n",
    "for i in rilievi:\n",
    "    ax.plot(rilievi[i]['data'],rilievi[i]['valore'],label=i)\n",
    "\n",
    "plt.title('Media settimanale Rilievi')\n",
    "ax.set_xlabel('data')\n",
    "ax.set_ylabel('densita µg/m³')\n",
    "ax.legend()\n",
    "plt.show()"
   ]
  },
  {
   "cell_type": "markdown",
   "metadata": {},
   "source": [
    "IQA"
   ]
  },
  {
   "cell_type": "code",
   "execution_count": null,
   "metadata": {},
   "outputs": [],
   "source": [
    "PM10=[500, 250, 100, 75, 50, 42, 35, 27, 20, 10]\n",
    "PM25=[250, 75, 50, 40, 30, 25, 20, 15, 10, 5]\n",
    "\n",
    "qlyscore=pd.DataFrame({'PM10':PM10,'PM25':PM25})\n",
    "qlyscore"
   ]
  },
  {
   "cell_type": "code",
   "execution_count": null,
   "metadata": {},
   "outputs": [],
   "source": [
    "plt.plot(qlyscore.index,qlyscore['PM25'])"
   ]
  }
 ],
 "metadata": {
  "kernelspec": {
   "display_name": "Python 3",
   "language": "python",
   "name": "python3"
  },
  "language_info": {
   "codemirror_mode": {
    "name": "ipython",
    "version": 3
   },
   "file_extension": ".py",
   "mimetype": "text/x-python",
   "name": "python",
   "nbconvert_exporter": "python",
   "pygments_lexer": "ipython3",
   "version": "3.8.3"
  }
 },
 "nbformat": 4,
 "nbformat_minor": 4
}
